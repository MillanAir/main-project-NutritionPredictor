{
 "cells": [
  {
   "cell_type": "code",
   "execution_count": 1,
   "metadata": {},
   "outputs": [],
   "source": [
    "import pandas as pd\n",
    "import numpy as np\n",
    "import re"
   ]
  },
  {
   "cell_type": "code",
   "execution_count": 2,
   "metadata": {},
   "outputs": [],
   "source": [
    "import nltk\n",
    "from nltk.corpus import stopwords\n",
    "from nltk.tokenize import word_tokenize\n",
    "from gensim.models import Word2Vec"
   ]
  },
  {
   "cell_type": "code",
   "execution_count": 15,
   "metadata": {},
   "outputs": [],
   "source": [
    "from sklearn.model_selection import train_test_split\n",
    "from sklearn.pipeline import Pipeline"
   ]
  },
  {
   "cell_type": "code",
   "execution_count": 3,
   "metadata": {},
   "outputs": [],
   "source": [
    "# load df_main_clean.csv\n",
    "df = pd.read_csv('./data/df_main_clean.csv')"
   ]
  },
  {
   "cell_type": "code",
   "execution_count": 4,
   "metadata": {},
   "outputs": [],
   "source": [
    "df_ingr = df['ingredients']\n",
    "# concat recipe_name, category and ingredient columns\n",
    "df_ingr = df_ingr.str.cat(df[['recipe_name', 'category']], sep=' ')"
   ]
  },
  {
   "cell_type": "code",
   "execution_count": 5,
   "metadata": {},
   "outputs": [],
   "source": [
    "def text_clean(df):\n",
    "    # remove each word with 'ed' in the end for example 'fried', 'sliced', 'chopped' remove them\n",
    "    df = df.apply(lambda x: re.sub(r'\\b\\w+ed\\b', '', x))\n",
    "    # replace comma with space\n",
    "    df = df.apply(lambda x: re.sub(r',', ' ', x))\n",
    "\n",
    "    # remove punctuation\n",
    "    df = df.apply(lambda x: re.sub(r'[^\\w\\s]', '', x))\n",
    "\n",
    "    # remove unwanted characters and symbols\n",
    "    df = df.apply(lambda x: re.sub(r'[^a-zA-Z0-9]', ' ', x))\n",
    "\n",
    "    # convert to lowercase\n",
    "    df = df.apply(lambda x: x.lower())\n",
    "\n",
    "    # remove stopwords\n",
    "    stop_words = set(stopwords.words('english'))\n",
    "    df = df.apply(lambda x: ' '.join([word for word in x.split() if word not in (stop_words)]))\n",
    "\n",
    "    # Tokenize ingredients into a list of individual words\n",
    "    df = df.apply(lambda x: word_tokenize(x)) \n",
    "    \n",
    "    return df\n",
    "\n",
    "df_ingr = text_clean(df_ingr)"
   ]
  },
  {
   "cell_type": "code",
   "execution_count": 6,
   "metadata": {},
   "outputs": [
    {
     "data": {
      "text/plain": [
       "0    [2, 105, ounce, cans, cream, chicken, soup, 3,...\n",
       "1    [2, tablespoons, vegetable, oil, 1, pound, bee...\n",
       "2    [2, teaspoons, olive, oil, 2, whole, rainbow, ...\n",
       "3    [4, hot, dog, buns, 4, hot, dogs, basic, air, ...\n",
       "4    [2, pounds, haddock, fillets, 05, teaspoon, on...\n",
       "Name: ingredients, dtype: object"
      ]
     },
     "execution_count": 6,
     "metadata": {},
     "output_type": "execute_result"
    }
   ],
   "source": [
    "df_ingr.head()"
   ]
  },
  {
   "cell_type": "code",
   "execution_count": 7,
   "metadata": {},
   "outputs": [],
   "source": [
    "model = Word2Vec(df_ingr, min_count=1, vector_size=100, window=5, workers=4)"
   ]
  },
  {
   "cell_type": "code",
   "execution_count": 8,
   "metadata": {},
   "outputs": [
    {
     "data": {
      "text/plain": [
       "[('lowsodium', 0.6680896282196045),\n",
       " ('beef', 0.6090837121009827),\n",
       " ('skinless', 0.5683826804161072),\n",
       " ('turkey', 0.5571762919425964),\n",
       " ('imagine', 0.5415967106819153),\n",
       " ('breast', 0.5248659253120422),\n",
       " ('quinoa', 0.5022087097167969),\n",
       " ('swanson', 0.496742308139801),\n",
       " ('mushroom', 0.4914121627807617),\n",
       " ('sodium', 0.4885903000831604)]"
      ]
     },
     "execution_count": 8,
     "metadata": {},
     "output_type": "execute_result"
    }
   ],
   "source": [
    "model.wv.most_similar('chicken')"
   ]
  },
  {
   "cell_type": "code",
   "execution_count": 9,
   "metadata": {},
   "outputs": [
    {
     "data": {
      "text/plain": [
       "0    [1.0678786, -0.40851134, -0.20696071, 0.537388...\n",
       "1    [0.7485664, -1.2707795, -1.3593858, 0.25103697...\n",
       "2    [0.5724781, -0.7109995, -1.1411778, -0.0541531...\n",
       "3    [0.061488416, -0.15301207, 0.19337137, -0.0362...\n",
       "4    [0.49323934, -0.75901234, -1.5818995, -0.12899...\n",
       "Name: ingredients, dtype: object"
      ]
     },
     "execution_count": 9,
     "metadata": {},
     "output_type": "execute_result"
    }
   ],
   "source": [
    "# import numpy as np\n",
    "\n",
    "def calculate_average_vector(tokens, model):\n",
    "    token_vectors = []\n",
    "    for token in tokens:\n",
    "        try:\n",
    "            token_vectors.append(model.wv[token])\n",
    "        except KeyError:\n",
    "            pass\n",
    "    return np.mean(token_vectors, axis=0)\n",
    "\n",
    "df_ingr = df_ingr.apply(lambda x: calculate_average_vector(x, model))\n",
    "\n",
    "df_ingr.head()"
   ]
  },
  {
   "cell_type": "code",
   "execution_count": 10,
   "metadata": {},
   "outputs": [
    {
     "data": {
      "text/plain": [
       "Index(['recipe_id', 'recipe_name', 'category', 'ratings', 'description',\n",
       "       'servings', 'total_time', 'ingredients', 'calories_kcal',\n",
       "       'carbohydrateContent', 'cholesterolContent', 'fiberContent',\n",
       "       'proteinContent', 'saturatedFatContent', 'sodiumContent',\n",
       "       'sugarContent', 'fatContent', 'unsaturatedFatContent', 'servingSize'],\n",
       "      dtype='object')"
      ]
     },
     "execution_count": 10,
     "metadata": {},
     "output_type": "execute_result"
    }
   ],
   "source": [
    "df.columns"
   ]
  },
  {
   "cell_type": "code",
   "execution_count": 11,
   "metadata": {},
   "outputs": [],
   "source": [
    "df_main = df[['calories_kcal', 'carbohydrateContent', 'proteinContent', 'fatContent', 'servings']]"
   ]
  },
  {
   "cell_type": "code",
   "execution_count": 12,
   "metadata": {},
   "outputs": [],
   "source": [
    "# add df_ingr to df_main\n",
    "df_main = pd.concat([df_main, df_ingr], axis=1)"
   ]
  },
  {
   "cell_type": "code",
   "execution_count": 13,
   "metadata": {},
   "outputs": [
    {
     "data": {
      "text/html": [
       "<div>\n",
       "<style scoped>\n",
       "    .dataframe tbody tr th:only-of-type {\n",
       "        vertical-align: middle;\n",
       "    }\n",
       "\n",
       "    .dataframe tbody tr th {\n",
       "        vertical-align: top;\n",
       "    }\n",
       "\n",
       "    .dataframe thead th {\n",
       "        text-align: right;\n",
       "    }\n",
       "</style>\n",
       "<table border=\"1\" class=\"dataframe\">\n",
       "  <thead>\n",
       "    <tr style=\"text-align: right;\">\n",
       "      <th></th>\n",
       "      <th>calories_kcal</th>\n",
       "      <th>carbohydrateContent</th>\n",
       "      <th>proteinContent</th>\n",
       "      <th>fatContent</th>\n",
       "      <th>servings</th>\n",
       "      <th>ingredients</th>\n",
       "    </tr>\n",
       "  </thead>\n",
       "  <tbody>\n",
       "    <tr>\n",
       "      <th>0</th>\n",
       "      <td>400</td>\n",
       "      <td>36.0</td>\n",
       "      <td>22.0</td>\n",
       "      <td>18.0</td>\n",
       "      <td>8</td>\n",
       "      <td>[1.0678786, -0.40851134, -0.20696071, 0.537388...</td>\n",
       "    </tr>\n",
       "    <tr>\n",
       "      <th>1</th>\n",
       "      <td>268</td>\n",
       "      <td>9.0</td>\n",
       "      <td>23.0</td>\n",
       "      <td>16.0</td>\n",
       "      <td>4</td>\n",
       "      <td>[0.7485664, -1.2707795, -1.3593858, 0.25103697...</td>\n",
       "    </tr>\n",
       "    <tr>\n",
       "      <th>2</th>\n",
       "      <td>373</td>\n",
       "      <td>2.0</td>\n",
       "      <td>54.0</td>\n",
       "      <td>15.0</td>\n",
       "      <td>6</td>\n",
       "      <td>[0.5724781, -0.7109995, -1.1411778, -0.0541531...</td>\n",
       "    </tr>\n",
       "    <tr>\n",
       "      <th>3</th>\n",
       "      <td>269</td>\n",
       "      <td>23.0</td>\n",
       "      <td>9.0</td>\n",
       "      <td>15.0</td>\n",
       "      <td>4</td>\n",
       "      <td>[0.061488416, -0.15301207, 0.19337137, -0.0362...</td>\n",
       "    </tr>\n",
       "    <tr>\n",
       "      <th>4</th>\n",
       "      <td>229</td>\n",
       "      <td>1.0</td>\n",
       "      <td>43.0</td>\n",
       "      <td>5.0</td>\n",
       "      <td>4</td>\n",
       "      <td>[0.49323934, -0.75901234, -1.5818995, -0.12899...</td>\n",
       "    </tr>\n",
       "  </tbody>\n",
       "</table>\n",
       "</div>"
      ],
      "text/plain": [
       "   calories_kcal  carbohydrateContent  proteinContent  fatContent  servings   \n",
       "0            400                 36.0            22.0        18.0         8  \\\n",
       "1            268                  9.0            23.0        16.0         4   \n",
       "2            373                  2.0            54.0        15.0         6   \n",
       "3            269                 23.0             9.0        15.0         4   \n",
       "4            229                  1.0            43.0         5.0         4   \n",
       "\n",
       "                                         ingredients  \n",
       "0  [1.0678786, -0.40851134, -0.20696071, 0.537388...  \n",
       "1  [0.7485664, -1.2707795, -1.3593858, 0.25103697...  \n",
       "2  [0.5724781, -0.7109995, -1.1411778, -0.0541531...  \n",
       "3  [0.061488416, -0.15301207, 0.19337137, -0.0362...  \n",
       "4  [0.49323934, -0.75901234, -1.5818995, -0.12899...  "
      ]
     },
     "execution_count": 13,
     "metadata": {},
     "output_type": "execute_result"
    }
   ],
   "source": [
    "df_main.head()"
   ]
  },
  {
   "cell_type": "code",
   "execution_count": 16,
   "metadata": {},
   "outputs": [],
   "source": [
    "ingredients = df_main['ingredients'].values\n",
    "servings = df_main['servings'].values\n",
    "\n",
    "# convert ingredients to a 2D array\n",
    "ingredients = np.vstack(ingredients)\n",
    "\n",
    "X = np.hstack((ingredients, servings.reshape(-1, 1)))\n",
    "y = df_main.drop(['ingredients', 'servings'], axis=1)"
   ]
  },
  {
   "cell_type": "code",
   "execution_count": 17,
   "metadata": {},
   "outputs": [],
   "source": [
    "X_train, X_test, y_train, y_test = train_test_split(X, y, random_state=42)"
   ]
  },
  {
   "cell_type": "code",
   "execution_count": 18,
   "metadata": {},
   "outputs": [
    {
     "name": "stdout",
     "output_type": "stream",
     "text": [
      "Linear Regression\n",
      "0.33778189752157717\n",
      "\n",
      "Random Forest\n",
      "0.31086356590410225\n",
      "\n",
      "Decision Tree\n",
      "-0.45108159128928993\n",
      "\n"
     ]
    }
   ],
   "source": [
    "# create pipeline for linear regression, random forest and decision tree use grid search\n",
    "from sklearn.linear_model import LinearRegression\n",
    "from sklearn.ensemble import RandomForestRegressor\n",
    "from sklearn.tree import DecisionTreeRegressor\n",
    "\n",
    "pipe_lr = Pipeline([('lr', LinearRegression())])\n",
    "pipe_rf = Pipeline([('rf', RandomForestRegressor())])\n",
    "pipe_dt = Pipeline([('dt', DecisionTreeRegressor())])\n",
    "\n",
    "# create param grid for each pipeline\n",
    "param_grid_lr = [{'lr__fit_intercept': [True, False]}]\n",
    "param_grid_rf = [{'rf__n_estimators': [100, 200, 300]}]\n",
    "param_grid_dt = [{'dt__max_depth': [3, 5, 7]}]\n",
    "\n",
    "# create list of pipelines\n",
    "pipelines = [pipe_lr, pipe_rf, pipe_dt]\n",
    "\n",
    "# create list of param grids\n",
    "param_grids = [param_grid_lr, param_grid_rf, param_grid_dt]\n",
    "\n",
    "# create list of model names\n",
    "model_names = ['Linear Regression', 'Random Forest', 'Decision Tree']\n",
    "\n",
    "#predict\n",
    "for i in range(len(pipelines)):\n",
    "    pipelines[i].fit(X_train, y_train)\n",
    "    print(model_names[i])\n",
    "    print(pipelines[i].score(X_test, y_test))\n",
    "    print()"
   ]
  },
  {
   "cell_type": "code",
   "execution_count": 82,
   "metadata": {},
   "outputs": [],
   "source": [
    "def get_ingredients(ingredients, servings):\n",
    "    my_ingredients = ingredients\n",
    "    my_ingredients = pd.Series(my_ingredients)\n",
    "    my_ingredients = text_clean(my_ingredients).iloc[0]\n",
    "    my_ingredients = calculate_average_vector(my_ingredients, model)\n",
    "    my_servings = servings\n",
    "    my_ingredients = np.hstack((my_ingredients, my_servings)).reshape(1, -1)\n",
    "    return my_ingredients"
   ]
  },
  {
   "cell_type": "code",
   "execution_count": 79,
   "metadata": {},
   "outputs": [
    {
     "name": "stdout",
     "output_type": "stream",
     "text": [
      "Linear Regression\n",
      "[[382.74524387  41.61143635  16.60374451  17.20822138]]\n",
      "\n",
      "Random Forest\n",
      "[[343.24  27.66  21.49  16.59]]\n",
      "\n",
      "Decision Tree\n",
      "[[512.  36.  16.  34.]]\n",
      "\n"
     ]
    }
   ],
   "source": [
    "# predict\n",
    "for i in range(len(pipelines)):\n",
    "    print(model_names[i])\n",
    "    print(pipelines[i].predict(my_ingredients))\n",
    "    print()"
   ]
  },
  {
   "cell_type": "code",
   "execution_count": 80,
   "metadata": {},
   "outputs": [
    {
     "name": "stdout",
     "output_type": "stream",
     "text": [
      "Linear Regression\n",
      "0.33778189752157717\n",
      "\n",
      "Random Forest\n",
      "0.3079114612483292\n",
      "\n",
      "Decision Tree\n",
      "0.12093066400266625\n",
      "\n"
     ]
    }
   ],
   "source": [
    "# grid search pipeline\n",
    "from sklearn.model_selection import GridSearchCV\n",
    "\n",
    "# create list of grids\n",
    "grids = []\n",
    "\n",
    "# gridsearch for each pipeline\n",
    "for i in range(len(pipelines)):\n",
    "    grid = GridSearchCV(pipelines[i], param_grids[i], cv=5, n_jobs=-1)\n",
    "    grid.fit(X_train, y_train)\n",
    "    grids.append(grid)\n",
    "\n",
    "# predict\n",
    "for i in range(len(grids)):\n",
    "    print(model_names[i])\n",
    "    print(grids[i].score(X_test, y_test))\n",
    "    print()"
   ]
  },
  {
   "cell_type": "code",
   "execution_count": 81,
   "metadata": {},
   "outputs": [
    {
     "name": "stdout",
     "output_type": "stream",
     "text": [
      "Linear Regression\n",
      "[[382.74524387  41.61143635  16.60374451  17.20822138]]\n",
      "\n",
      "Random Forest\n",
      "[[363.23666667  23.86        23.38666667  20.12666667]]\n",
      "\n",
      "Decision Tree\n",
      "[[434.02337814  35.93863238  21.70485096  23.05990649]]\n",
      "\n"
     ]
    }
   ],
   "source": [
    "#predict\n",
    "for i in range(len(grids)):\n",
    "    print(model_names[i])\n",
    "    print(grids[i].predict(my_ingredients))\n",
    "    print()"
   ]
  },
  {
   "cell_type": "code",
   "execution_count": 84,
   "metadata": {},
   "outputs": [],
   "source": [
    "def predict(my_ingredients):\n",
    "    for i in range(len(grids)):\n",
    "        print(model_names[i])\n",
    "        print(grids[i].predict(my_ingredients))\n",
    "        print()"
   ]
  },
  {
   "cell_type": "code",
   "execution_count": 91,
   "metadata": {},
   "outputs": [
    {
     "name": "stdout",
     "output_type": "stream",
     "text": [
      "Linear Regression\n",
      "[[475.33760584  38.47506537  22.40375042  25.53963892]]\n",
      "\n",
      "Random Forest\n",
      "[[379.97166667  30.18833333  19.16666667  20.38666667]]\n",
      "\n",
      "Decision Tree\n",
      "[[337.90463576  34.09471788  13.67516556  16.74470199]]\n",
      "\n"
     ]
    }
   ],
   "source": [
    "ingredients = '2 bunches collard greens,2 bunches mustard greens,2 bunches turnip greens,4 cups chicken broth, divided,3 tablespoons salt,½ cup vegetable oil,½ cup cooked real bacon bits,½ cup white sugar,4 cloves garlic, sliced,salt and pepper to taste'\n",
    "predict(get_ingredients(ingredients, 12))"
   ]
  },
  {
   "cell_type": "code",
   "execution_count": null,
   "metadata": {},
   "outputs": [],
   "source": []
  }
 ],
 "metadata": {
  "kernelspec": {
   "display_name": "test_env",
   "language": "python",
   "name": "test_env"
  },
  "language_info": {
   "codemirror_mode": {
    "name": "ipython",
    "version": 3
   },
   "file_extension": ".py",
   "mimetype": "text/x-python",
   "name": "python",
   "nbconvert_exporter": "python",
   "pygments_lexer": "ipython3",
   "version": "3.9.13"
  },
  "orig_nbformat": 4
 },
 "nbformat": 4,
 "nbformat_minor": 2
}
